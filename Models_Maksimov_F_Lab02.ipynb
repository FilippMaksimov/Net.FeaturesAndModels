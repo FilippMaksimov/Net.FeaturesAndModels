{
  "nbformat": 4,
  "nbformat_minor": 0,
  "metadata": {
    "colab": {
      "provenance": [],
      "authorship_tag": "ABX9TyPYNk5eoN32LIK8knhkO6l3",
      "include_colab_link": true
    },
    "kernelspec": {
      "name": "python3",
      "display_name": "Python 3"
    },
    "language_info": {
      "name": "python"
    }
  },
  "cells": [
    {
      "cell_type": "markdown",
      "metadata": {
        "id": "view-in-github",
        "colab_type": "text"
      },
      "source": [
        "<a href=\"https://colab.research.google.com/github/FilippMaksimov/Net.FeaturesAndModels/blob/main/Models_Maksimov_F_Lab02.ipynb\" target=\"_parent\"><img src=\"https://colab.research.google.com/assets/colab-badge.svg\" alt=\"Open In Colab\"/></a>"
      ]
    },
    {
      "cell_type": "code",
      "execution_count": null,
      "metadata": {
        "id": "0cjgHkGAmZZC"
      },
      "outputs": [],
      "source": [
        "import pandas as pd\n",
        "import numpy as np\n",
        "from sklearn import datasets\n",
        "from sklearn.model_selection import train_test_split"
      ]
    },
    {
      "cell_type": "code",
      "source": [
        "class CustomLogisticRegression():\n",
        "    def __init__(self, learning_rate=0.01, max_iter=1000):\n",
        "      self.learning_rate = learning_rate\n",
        "      self.max_iter = max_iter\n",
        "      self.W = None\n",
        "      self.b = None\n",
        "\n",
        "    def sigmoid(self, x):\n",
        "      return 1 / (1 + np.exp(-x))\n",
        "\n",
        "    def fit(self, X, y, method):\n",
        "      l, n = X.shape\n",
        "      self.W = np.zeros(n)\n",
        "      self.b = 0\n",
        "\n",
        "      for i in range(self.max_iter):\n",
        "        linear_model = np.dot(X, self.W) + self.b\n",
        "        y_predicted = self.sigmoid(linear_model)\n",
        "        #Градиенты\n",
        "        dw = (1 / l) * np.dot(X.T, (y_predicted - y))\n",
        "        db = (1 / l) * np.sum(y_predicted - y)\n",
        "\n",
        "        if method == 'gradient':\n",
        "          #Обновление параметров\n",
        "          self.W -= self.learning_rate * dw\n",
        "          self.b -= self.learning_rate * db\n",
        "\n",
        "        elif method == 'rmsprop':\n",
        "          #Параметры для метода скользящего среднего\n",
        "          gamma = 0.9\n",
        "          epsilon = 1e-8\n",
        "          vdw = np.zeros(n)\n",
        "          vdb = 0\n",
        "\n",
        "          vdw = gamma * vdw + (1 - gamma) * dw ** 2\n",
        "          vdb = gamma * vdb + (1 - gamma) * db ** 2\n",
        "          self.W -= self.learning_rate * dw / (np.sqrt(vdw) + epsilon)\n",
        "          self.b -= self.learning_rate * db / (np.sqrt(vdb) + epsilon)\n",
        "\n",
        "\n",
        "        elif method == 'nadam':\n",
        "          beta1 = 0.9\n",
        "          beta2 = 0.999\n",
        "          epsilon = 1e-8\n",
        "          m = np.zeros(n)\n",
        "          v = np.zeros(n)\n",
        "          m_b = 0\n",
        "          v_b = 0\n",
        "          t = i + 1\n",
        "\n",
        "          m = beta1 * m + (1 - beta1) * dw\n",
        "          v = beta2 * v + (1 - beta2) * (dw ** 2)\n",
        "          m_b = beta1 * m_b + (1 - beta1) * db\n",
        "          v_b = beta2 * v_b + (1 - beta2) * (db ** 2)\n",
        "\n",
        "          m_hat = m / (1 - beta1 ** t)\n",
        "          v_hat = v / (1 - beta2 ** t)\n",
        "          m_b_hat = m_b / (1 - beta1 ** t)\n",
        "          v_b_hat = v_b / (1 - beta2 ** t)\n",
        "\n",
        "          self.W -= self.learning_rate * m_hat / (np.sqrt(v_hat) + epsilon)\n",
        "          self.b -= self.learning_rate * m_b_hat / (np.sqrt(v_b_hat) + epsilon)\n",
        "\n",
        "\n",
        "    def predict(self, X):\n",
        "        linear_model = np.dot(X, self.W) + self.b\n",
        "        y_predicted = self.sigmoid(linear_model)\n",
        "        return np.where(y_predicted >= 0.5, 1, 0)\n",
        "\n",
        "    def accuracy(self, y_true, y_pred):\n",
        "        return np.mean(y_true == y_pred)"
      ],
      "metadata": {
        "id": "tP4SlwfapF_O"
      },
      "execution_count": null,
      "outputs": []
    },
    {
      "cell_type": "code",
      "source": [
        "# Загрузка данных\n",
        "iris = datasets.load_iris()\n",
        "df = pd.DataFrame(data=iris.data, columns=iris.feature_names)\n",
        "df['target'] = iris.target\n",
        "\n",
        "# Фильтрация только для классов Iris Versicolor (1) и Iris Virginica (2)\n",
        "df = df[df['target'].isin([1, 2])]\n",
        "X = df.iloc[:, :-1]\n",
        "X['Add'] = 1 #добавление фиктивного признака из единиц\n",
        "X = X.values\n",
        "#Замена классов 1 и 2 на 0 и 1 соответственно\n",
        "target_map = {1: 0, 2: 1}\n",
        "df['target'] = df['target'].map(target_map)\n",
        "y = df['target'].values"
      ],
      "metadata": {
        "id": "qqg-BnXeY9zh"
      },
      "execution_count": null,
      "outputs": []
    },
    {
      "cell_type": "code",
      "source": [
        "import time\n",
        "\n",
        "# Функция для оценки модели и возврата метрики\n",
        "def evaluate_model(model_class, X_train, y_train, X_test, y_test, method):\n",
        "    model = model_class(learning_rate=0.01, max_iter=2000)\n",
        "\n",
        "    start_time = time.time()\n",
        "    model.fit(X_train, y_train, method)\n",
        "    end_time = time.time()\n",
        "\n",
        "    y_pred = model.predict(X_test)\n",
        "    accuracy = model.accuracy(y_test, y_pred)\n",
        "    execution_time = end_time - start_time\n",
        "\n",
        "    return accuracy, execution_time"
      ],
      "metadata": {
        "id": "3KqhLPokPLf6"
      },
      "execution_count": null,
      "outputs": []
    },
    {
      "cell_type": "code",
      "source": [
        "# Сравнение методов\n",
        "res = []\n",
        "\n",
        "x_train, x_test, y_train, y_test = train_test_split(X, y, test_size=0.2, random_state=42)\n",
        "\n",
        "# Градиентный спуск\n",
        "accuracy_gd, time_gd = evaluate_model(CustomLogisticRegression, x_train, y_train, x_test, y_test, 'gradient')\n",
        "res.append((\"Градиентный спуск\", accuracy_gd, time_gd))\n",
        "\n",
        "# RMSProp\n",
        "accuracy_rms, time_rms = evaluate_model(CustomLogisticRegression, x_train, y_train, x_test, y_test, 'rmsprop')\n",
        "res.append((\"RMSProp\", accuracy_rms, time_rms))\n",
        "\n",
        "# Nadam\n",
        "accuracy_nadam, time_nadam = evaluate_model(CustomLogisticRegression, x_train, y_train, x_test, y_test, 'nadam')\n",
        "res.append((\"Nadam\", accuracy_nadam, time_nadam))\n",
        "\n",
        "# Вывод результатов\n",
        "print(\"| Метод          | Метрика (Accuracy) | Время работы (секунд) |\")\n",
        "print(\"|----------------|--------------------|-----------------------|\")\n",
        "for method, accuracy, exec_time in res:\n",
        "    print(f\"| {method:<15} | {accuracy:.4f}           | {exec_time:.4f}               |\")"
      ],
      "metadata": {
        "colab": {
          "base_uri": "https://localhost:8080/"
        },
        "id": "zUD_8aeOPiyY",
        "outputId": "fab719ea-4982-4173-d8e4-595369828a95"
      },
      "execution_count": null,
      "outputs": [
        {
          "output_type": "stream",
          "name": "stdout",
          "text": [
            "| Метод          | Метрика (Accuracy) | Время работы (секунд) |\n",
            "|----------------|--------------------|-----------------------|\n",
            "| Градиентный спуск | 0.9000           | 0.0479               |\n",
            "| RMSProp         | 0.9000           | 0.0666               |\n",
            "| Nadam           | 0.8500           | 0.0787               |\n"
          ]
        }
      ]
    }
  ]
}